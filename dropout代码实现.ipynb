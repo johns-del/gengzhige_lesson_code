{
 "cells": [
  {
   "cell_type": "code",
   "execution_count": 2,
   "metadata": {},
   "outputs": [],
   "source": [
    "import torch\n",
    "import torch.nn as nn\n",
    "import matplotlib.pyplot as plt\n",
    "\n",
    "torch.manual_seed(2322)\n",
    "\n",
    "num_samples=20\n",
    "hidden_size=200\n",
    "num_epochs=500"
   ]
  },
  {
   "cell_type": "code",
   "execution_count": 4,
   "metadata": {},
   "outputs": [],
   "source": [
    "x_train=torch.unsqueeze(torch.linspace(-1,1,num_samples),dim=1)\n",
    "y_train=x_train+0.3*torch.normal(torch.zeros(num_samples,1),torch.ones(num_samples,1))\n",
    "\n",
    "x_train=torch.unsqueeze(torch.linspace(-1,1,num_samples),dim=1)\n",
    "y_train=x_train+0.3*torch.normal(torch.zeros(num_samples,1),torch.ones(num_samples,1))\n",
    "\n",
    "\n",
    "\n",
    "\n"
   ]
  },
  {
   "cell_type": "code",
   "execution_count": 5,
   "metadata": {},
   "outputs": [],
   "source": [
    "net_overfitting=nn.Sequential(\n",
    "    nn.Linear(1,hidden_size),\n",
    "    nn.ReLU(),\n",
    "    nn.Linear(hidden_size,hidden_size),\n",
    "    nn.ReLU(),\n",
    "    nn.Linear(hidden_size,1)\n",
    ")\n",
    "\n",
    "net_dropout=nn.Sequential(\n",
    "    nn.Linear(1,hidden_size),\n",
    "    nn.Dropout(0.5),\n",
    "    nn.ReLU(),\n",
    "    nn.Linear(hidden_size,hidden_size),\n",
    "    nn.Dropout(0.5),\n",
    "    nn.ReLU(),\n",
    "    nn.Linear(hidden_size,1)\n",
    ")\n",
    "\n",
    "\n",
    "\n",
    "\n",
    "\n"
   ]
  },
  {
   "cell_type": "code",
   "execution_count": 6,
   "metadata": {},
   "outputs": [
    {
     "name": "stdout",
     "output_type": "stream",
     "text": [
      "epoch100,loss_overfitting=0.031997013837099075,loss_dropout=0.0755772516131401\n",
      "epoch200,loss_overfitting=0.029078420251607895,loss_dropout=0.07262684404850006\n",
      "epoch300,loss_overfitting=0.01934804767370224,loss_dropout=0.05900314450263977\n",
      "epoch400,loss_overfitting=0.015124966390430927,loss_dropout=0.10144789516925812\n",
      "epoch500,loss_overfitting=0.011648914776742458,loss_dropout=0.06410230696201324\n"
     ]
    }
   ],
   "source": [
    "opt_overfitting=torch.optim.Adam(net_overfitting.parameters(),lr=0.01)\n",
    "opt_dropout=torch.optim.Adam(net_dropout.parameters(),lr=0.01)\n",
    "\n",
    "criterion=nn.MSELoss()\n",
    "\n",
    "for epoch in range(num_epochs):\n",
    "\n",
    "    out_overfitting=net_overfitting(x_train)\n",
    "    out_dropout=net_dropout(x_train)\n",
    "\n",
    "    loss_overfitting=criterion(out_overfitting,y_train)\n",
    "    loss_dropout=criterion(out_dropout,y_train)\n",
    "    \n",
    "    opt_overfitting.zero_grad()\n",
    "    opt_dropout.zero_grad()\n",
    "\n",
    "    loss_overfitting.backward()\n",
    "    loss_dropout.backward() \n",
    "    \n",
    "    opt_overfitting.step()\n",
    "    opt_dropout.step()\n",
    "    \n",
    "    if (epoch+1)%100==0:\n",
    "        print(f\"epoch{epoch+1},loss_overfitting={loss_overfitting.item()},loss_dropout={loss_dropout.item()}\")\n",
    "            \n",
    "        \n",
    "\n",
    "\n"
   ]
  },
  {
   "cell_type": "code",
   "execution_count": 7,
   "metadata": {},
   "outputs": [
    {
     "name": "stdout",
     "output_type": "stream",
     "text": [
      "Collecting matplotlib\n",
      "  Downloading matplotlib-3.10.1-cp312-cp312-win_amd64.whl.metadata (11 kB)\n",
      "Requirement already satisfied: contourpy>=1.0.1 in d:\\anaconda\\lib\\site-packages (from matplotlib) (1.2.0)\n",
      "Requirement already satisfied: cycler>=0.10 in d:\\anaconda\\lib\\site-packages (from matplotlib) (0.11.0)\n",
      "Requirement already satisfied: fonttools>=4.22.0 in d:\\anaconda\\lib\\site-packages (from matplotlib) (4.51.0)\n",
      "Requirement already satisfied: kiwisolver>=1.3.1 in d:\\anaconda\\lib\\site-packages (from matplotlib) (1.4.4)\n",
      "Requirement already satisfied: numpy>=1.23 in d:\\anaconda\\lib\\site-packages (from matplotlib) (1.26.4)\n",
      "Requirement already satisfied: packaging>=20.0 in d:\\anaconda\\lib\\site-packages (from matplotlib) (24.1)\n",
      "Requirement already satisfied: pillow>=8 in d:\\anaconda\\lib\\site-packages (from matplotlib) (10.4.0)\n",
      "Requirement already satisfied: pyparsing>=2.3.1 in d:\\anaconda\\lib\\site-packages (from matplotlib) (3.1.2)\n",
      "Requirement already satisfied: python-dateutil>=2.7 in d:\\anaconda\\lib\\site-packages (from matplotlib) (2.9.0.post0)\n",
      "Requirement already satisfied: six>=1.5 in d:\\anaconda\\lib\\site-packages (from python-dateutil>=2.7->matplotlib) (1.16.0)\n",
      "Downloading matplotlib-3.10.1-cp312-cp312-win_amd64.whl (8.1 MB)\n",
      "   ---------------------------------------- 0.0/8.1 MB ? eta -:--:--\n",
      "   ---------------------------------------- 0.0/8.1 MB ? eta -:--:--\n",
      "   ---------------------------------------- 0.0/8.1 MB ? eta -:--:--\n",
      "   - -------------------------------------- 0.3/8.1 MB ? eta -:--:--\n",
      "   - -------------------------------------- 0.3/8.1 MB ? eta -:--:--\n",
      "   -- ------------------------------------- 0.5/8.1 MB 645.7 kB/s eta 0:00:12\n",
      "   --- ------------------------------------ 0.8/8.1 MB 730.2 kB/s eta 0:00:10\n",
      "   --- ------------------------------------ 0.8/8.1 MB 730.2 kB/s eta 0:00:10\n",
      "   ----- ---------------------------------- 1.0/8.1 MB 774.8 kB/s eta 0:00:10\n",
      "   ------ --------------------------------- 1.3/8.1 MB 762.6 kB/s eta 0:00:09\n",
      "   ------ --------------------------------- 1.3/8.1 MB 762.6 kB/s eta 0:00:09\n",
      "   ------- -------------------------------- 1.6/8.1 MB 755.9 kB/s eta 0:00:09\n",
      "   ------- -------------------------------- 1.6/8.1 MB 755.9 kB/s eta 0:00:09\n",
      "   --------- ------------------------------ 1.8/8.1 MB 751.5 kB/s eta 0:00:09\n",
      "   ---------- ----------------------------- 2.1/8.1 MB 777.9 kB/s eta 0:00:08\n",
      "   ---------- ----------------------------- 2.1/8.1 MB 777.9 kB/s eta 0:00:08\n",
      "   ----------- ---------------------------- 2.4/8.1 MB 749.8 kB/s eta 0:00:08\n",
      "   ------------- -------------------------- 2.6/8.1 MB 774.3 kB/s eta 0:00:08\n",
      "   ------------- -------------------------- 2.6/8.1 MB 774.3 kB/s eta 0:00:08\n",
      "   -------------- ------------------------- 2.9/8.1 MB 791.5 kB/s eta 0:00:07\n",
      "   --------------- ------------------------ 3.1/8.1 MB 795.5 kB/s eta 0:00:07\n",
      "   --------------- ------------------------ 3.1/8.1 MB 795.5 kB/s eta 0:00:07\n",
      "   ---------------- ----------------------- 3.4/8.1 MB 805.4 kB/s eta 0:00:06\n",
      "   ------------------ --------------------- 3.7/8.1 MB 807.9 kB/s eta 0:00:06\n",
      "   ------------------- -------------------- 3.9/8.1 MB 815.6 kB/s eta 0:00:06\n",
      "   ------------------- -------------------- 3.9/8.1 MB 815.6 kB/s eta 0:00:06\n",
      "   -------------------- ------------------- 4.2/8.1 MB 822.5 kB/s eta 0:00:05\n",
      "   ---------------------- ----------------- 4.5/8.1 MB 826.0 kB/s eta 0:00:05\n",
      "   ---------------------- ----------------- 4.5/8.1 MB 826.0 kB/s eta 0:00:05\n",
      "   ----------------------- ---------------- 4.7/8.1 MB 815.0 kB/s eta 0:00:05\n",
      "   ----------------------- ---------------- 4.7/8.1 MB 815.0 kB/s eta 0:00:05\n",
      "   ------------------------ --------------- 5.0/8.1 MB 801.1 kB/s eta 0:00:04\n",
      "   -------------------------- ------------- 5.2/8.1 MB 815.3 kB/s eta 0:00:04\n",
      "   -------------------------- ------------- 5.2/8.1 MB 815.3 kB/s eta 0:00:04\n",
      "   --------------------------- ------------ 5.5/8.1 MB 818.4 kB/s eta 0:00:04\n",
      "   ---------------------------- ----------- 5.8/8.1 MB 823.2 kB/s eta 0:00:03\n",
      "   ---------------------------- ----------- 5.8/8.1 MB 823.2 kB/s eta 0:00:03\n",
      "   ----------------------------- ---------- 6.0/8.1 MB 822.1 kB/s eta 0:00:03\n",
      "   ------------------------------- -------- 6.3/8.1 MB 822.8 kB/s eta 0:00:03\n",
      "   -------------------------------- ------- 6.6/8.1 MB 826.8 kB/s eta 0:00:02\n",
      "   -------------------------------- ------- 6.6/8.1 MB 826.8 kB/s eta 0:00:02\n",
      "   -------------------------------- ------- 6.6/8.1 MB 826.8 kB/s eta 0:00:02\n",
      "   --------------------------------- ------ 6.8/8.1 MB 803.5 kB/s eta 0:00:02\n",
      "   ----------------------------------- ---- 7.1/8.1 MB 818.4 kB/s eta 0:00:02\n",
      "   ------------------------------------ --- 7.3/8.1 MB 822.1 kB/s eta 0:00:01\n",
      "   ------------------------------------ --- 7.3/8.1 MB 822.1 kB/s eta 0:00:01\n",
      "   ------------------------------------- -- 7.6/8.1 MB 817.0 kB/s eta 0:00:01\n",
      "   ------------------------------------- -- 7.6/8.1 MB 817.0 kB/s eta 0:00:01\n",
      "   ---------------------------------------  7.9/8.1 MB 815.0 kB/s eta 0:00:01\n",
      "   ---------------------------------------- 8.1/8.1 MB 817.2 kB/s eta 0:00:00\n",
      "Installing collected packages: matplotlib\n",
      "Successfully installed matplotlib-3.10.1\n",
      "Note: you may need to restart the kernel to use updated packages.\n"
     ]
    },
    {
     "name": "stderr",
     "output_type": "stream",
     "text": [
      "\n",
      "[notice] A new release of pip is available: 25.0.1 -> 25.1\n",
      "[notice] To update, run: python.exe -m pip install --upgrade pip\n"
     ]
    }
   ],
   "source": [
    "%pip install matplotlib\n"
   ]
  },
  {
   "cell_type": "code",
   "execution_count": null,
   "metadata": {},
   "outputs": [],
   "source": []
  }
 ],
 "metadata": {
  "kernelspec": {
   "display_name": "base",
   "language": "python",
   "name": "python3"
  },
  "language_info": {
   "codemirror_mode": {
    "name": "ipython",
    "version": 3
   },
   "file_extension": ".py",
   "mimetype": "text/x-python",
   "name": "python",
   "nbconvert_exporter": "python",
   "pygments_lexer": "ipython3",
   "version": "3.12.7"
  }
 },
 "nbformat": 4,
 "nbformat_minor": 2
}
